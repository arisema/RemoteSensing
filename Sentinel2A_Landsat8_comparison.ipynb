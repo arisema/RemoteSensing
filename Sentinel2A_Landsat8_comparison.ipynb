{
 "cells": [
  {
   "cell_type": "code",
   "execution_count": 1,
   "metadata": {},
   "outputs": [
    {
     "name": "stderr",
     "output_type": "stream",
     "text": [
      "/home/am/.local/lib/python3.6/site-packages/pandas/compat/_optional.py:106: UserWarning: Pandas requires version '1.2.1' or newer of 'bottleneck' (version '1.2.0' currently installed).\n",
      "  warnings.warn(msg, UserWarning)\n"
     ]
    }
   ],
   "source": [
    "import pandas as pd\n",
    "%matplotlib inline"
   ]
  },
  {
   "cell_type": "code",
   "execution_count": 2,
   "metadata": {},
   "outputs": [
    {
     "name": "stdout",
     "output_type": "stream",
     "text": [
      "ethiopia\n",
      "ethiopia.geojson\n",
      "LANDSAT_8_C1_383244.csv\n",
      "NDVI_SWEthiopia_with_Mosaic.ipynb\n",
      "RasterVision.ipynb\n",
      "SENTINEL_2A_382286.csv\n",
      "Sentinel2A_Landsat8_comparison.ipynb\n",
      "sentinel2MetaDataExtract.ipynb\n",
      "Untitled.ipynb\n"
     ]
    }
   ],
   "source": [
    "%%bash\n",
    "ls"
   ]
  },
  {
   "cell_type": "markdown",
   "metadata": {},
   "source": [
    "### Landsat-8"
   ]
  },
  {
   "cell_type": "code",
   "execution_count": 3,
   "metadata": {},
   "outputs": [
    {
     "data": {
      "text/plain": [
       "Index(['Landsat Product Identifier', 'Landsat Scene Identifier',\n",
       "       'Acquisition Date', 'Collection Category', 'Collection Number',\n",
       "       'WRS Path', 'WRS Row', 'Target WRS Path', 'Target WRS Row',\n",
       "       'Nadir/Off Nadir', 'Roll Angle', 'Date L-1 Generated', 'Start Time',\n",
       "       'Stop Time', 'Station Identifier', 'Day/Night Indicator',\n",
       "       'Land Cloud Cover', 'Scene Cloud Cover', 'Ground Control Points Model',\n",
       "       'Ground Control Points Version', 'Geometric RMSE Model (meters)',\n",
       "       'Geometric RMSE Model X', 'Geometric RMSE Model Y', 'Image Quality',\n",
       "       ' Processing Software Version', 'Sun Elevation L1', 'Sun Azimuth L1',\n",
       "       'TIRS SSM Model', 'Data Type Level-1', 'Sensor Identifier',\n",
       "       'Panchromatic Lines', 'Panchromatic Samples', 'Reflective Lines',\n",
       "       'Reflective Samples', 'Thermal Lines', 'Thermal Samples',\n",
       "       'Map Projection Level-1', 'UTM Zone', 'Datum', 'Ellipsoid',\n",
       "       'Grid Cell Size Panchromatic', 'Grid Cell Size Reflective',\n",
       "       'Grid Cell Size Thermal', 'Bias Parameter File Name OLI',\n",
       "       'Bias Parameter File Name TIRS', ' Calibration Parameter File',\n",
       "       'RLUT File Name', 'Center Latitude', 'Center Longitude',\n",
       "       'UL Corner Lat', 'UL Corner Long', 'UR Corner Lat', 'UR Corner Long',\n",
       "       'LL Corner Lat', 'LL Corner Long', 'LR Corner Lat', 'LR Corner Long',\n",
       "       'Center Latitude dec', 'Center Longitude dec', 'UL Corner Lat dec',\n",
       "       'UL Corner Long dec', 'UR Corner Lat dec', 'UR Corner Long dec',\n",
       "       'LL Corner Lat dec', 'LL Corner Long dec', 'LR Corner Lat dec',\n",
       "       'LR Corner Long dec', 'Display ID', 'Ordering ID', 'Browse Link'],\n",
       "      dtype='object')"
      ]
     },
     "execution_count": 3,
     "metadata": {},
     "output_type": "execute_result"
    }
   ],
   "source": [
    "pd.read_csv('LANDSAT_8_C1_383244.csv').columns"
   ]
  },
  {
   "cell_type": "code",
   "execution_count": 4,
   "metadata": {},
   "outputs": [],
   "source": [
    "landsatMetaData = pd.read_csv('LANDSAT_8_C1_383244.csv',\n",
    "                             usecols=['Acquisition Date',\n",
    "                                      'Scene Cloud Cover', \n",
    "                                      'Landsat Scene Identifier'\n",
    "                                     ],\n",
    "                              parse_dates=['Acquisition Date'],\n",
    "                              date_parser= lambda x: pd.to_datetime(x).date \n",
    "                             )\n",
    "landsatMetaData = landsatMetaData.rename(columns={'Acquisition Date':'Date', 'Landsat Scene Identifier':'Scene', 'Scene Cloud Cover':'Landsat8 CCP'})\n",
    "landsatMetaData = landsatMetaData.assign(Date= landsatMetaData['Date'].dt.strftime('%m-%Y'))\n",
    "# landsatMetaData.columns"
   ]
  },
  {
   "cell_type": "code",
   "execution_count": 5,
   "metadata": {},
   "outputs": [
    {
     "data": {
      "text/plain": [
       "array(['01-2020', '12-2019', '11-2019', '10-2019', '09-2019', '08-2019',\n",
       "       '07-2019', '06-2019', '05-2019', '04-2019', '03-2019', '02-2019',\n",
       "       '01-2019', '12-2018', '11-2018', '10-2018', '09-2018', '08-2018',\n",
       "       '07-2018', '06-2018', '05-2018', '04-2018', '03-2018', '02-2018',\n",
       "       '01-2018', '12-2017', '11-2017', '10-2017', '09-2017', '08-2017',\n",
       "       '07-2017', '06-2017', '05-2017', '04-2017', '03-2017', '02-2017',\n",
       "       '01-2017', '12-2016', '11-2016', '10-2016', '09-2016', '08-2016',\n",
       "       '07-2016', '06-2016', '05-2016', '04-2016', '03-2016', '02-2016',\n",
       "       '01-2016', '12-2015', '11-2015', '10-2015', '09-2015', '08-2015',\n",
       "       '07-2015', '06-2015', '05-2015', '04-2015', '03-2015', '02-2015',\n",
       "       '01-2015', '12-2014', '11-2014', '10-2014', '09-2014', '08-2014',\n",
       "       '07-2014', '06-2014', '05-2014', '04-2014', '03-2014', '02-2014',\n",
       "       '01-2014', '12-2013', '11-2013', '10-2013', '09-2013', '08-2013',\n",
       "       '07-2013', '06-2013', '05-2013', '04-2013', '03-2013'], dtype=object)"
      ]
     },
     "execution_count": 5,
     "metadata": {},
     "output_type": "execute_result"
    }
   ],
   "source": [
    "landsatMetaData.head()\n",
    "landsatMetaData['Date'].unique()\n",
    "# sth = landsatMetaData.set_index('Year','Month')\n",
    "# landsatMetaData"
   ]
  },
  {
   "cell_type": "code",
   "execution_count": 6,
   "metadata": {},
   "outputs": [
    {
     "data": {
      "text/plain": [
       "FrozenList(['Date'])"
      ]
     },
     "execution_count": 6,
     "metadata": {},
     "output_type": "execute_result"
    }
   ],
   "source": [
    "lsg = pd.DataFrame(landsatMetaData.groupby('Date')['Landsat8 CCP'].mean())\n",
    "lsg.index.names"
   ]
  },
  {
   "cell_type": "markdown",
   "metadata": {},
   "source": [
    "### Sentinel-2A"
   ]
  },
  {
   "cell_type": "code",
   "execution_count": 7,
   "metadata": {},
   "outputs": [
    {
     "data": {
      "text/plain": [
       "Index(['Entity ID', 'Acquisition Start Date', 'Acquisition End Date',\n",
       "       'Tile Number', 'Cloud Cover', 'Agency', 'Platform', 'Vendor',\n",
       "       'Vendor Tile ID', 'Orbit Number', 'Orbit Direction',\n",
       "       'Vendor Software Version', 'Production Date', 'Vendor Product ID',\n",
       "       'Archiving Center', 'Datatake Type', 'Datatake Identifier', 'Data Type',\n",
       "       'Product Type', 'Product Format', 'Processing Level', 'Datastrip ID',\n",
       "       'Datum', 'Map Projection', 'UTM Zone', 'EPSG Code', 'Resolution',\n",
       "       'Units', 'Sun Zenith Angle Mean', 'Sun Azimuth Angle  Mean',\n",
       "       'Quantification', 'Center Latitude', 'Center Longitude',\n",
       "       'NW Corner Lat', 'NW Corner Long', 'NE  Corner Lat', 'NE  Corner Long',\n",
       "       'SE Corner Lat', 'SE Corner Long', 'SW Corner Lat', 'SW Corner Long',\n",
       "       'Center Latitude dec', 'Center Longitude dec', 'NW  Corner Lat dec',\n",
       "       'NW Corner Long dec', 'NE Corner Lat dec', 'NE Corner Long dec',\n",
       "       'SE Corner Lat dec', 'SE Corner Long dec', 'SW Corner Lat dec',\n",
       "       'SW Corner Long dec', 'Display ID', 'Ordering ID', 'Browse Link'],\n",
       "      dtype='object')"
      ]
     },
     "execution_count": 7,
     "metadata": {},
     "output_type": "execute_result"
    }
   ],
   "source": [
    "pd.read_csv('SENTINEL_2A_382286.csv').columns"
   ]
  },
  {
   "cell_type": "code",
   "execution_count": 8,
   "metadata": {},
   "outputs": [
    {
     "data": {
      "text/plain": [
       "Index(['Date', 'Tile Number', 'Sentinel2A CCP'], dtype='object')"
      ]
     },
     "execution_count": 8,
     "metadata": {},
     "output_type": "execute_result"
    }
   ],
   "source": [
    "sentMetaData = pd.read_csv('SENTINEL_2A_382286.csv',\n",
    "                  usecols=['Acquisition End Date',\n",
    "                           'Tile Number', \n",
    "                           'Cloud Cover'\n",
    "                          ], \n",
    "                  parse_dates=['Acquisition End Date'], \n",
    "                  date_parser = lambda x: pd.to_datetime(x).date\n",
    "                  )\n",
    "sentMetaData = sentMetaData.rename(columns={'Acquisition End Date':'Date','Cloud Cover':'Sentinel2A CCP'})\n",
    "sentMetaData = sentMetaData.assign(Date= sentMetaData['Date'].dt.strftime('%m-%Y'))\n",
    "sentMetaData.columns"
   ]
  },
  {
   "cell_type": "code",
   "execution_count": 10,
   "metadata": {},
   "outputs": [
    {
     "data": {
      "text/html": [
       "<div>\n",
       "<style scoped>\n",
       "    .dataframe tbody tr th:only-of-type {\n",
       "        vertical-align: middle;\n",
       "    }\n",
       "\n",
       "    .dataframe tbody tr th {\n",
       "        vertical-align: top;\n",
       "    }\n",
       "\n",
       "    .dataframe thead th {\n",
       "        text-align: right;\n",
       "    }\n",
       "</style>\n",
       "<table border=\"1\" class=\"dataframe\">\n",
       "  <thead>\n",
       "    <tr style=\"text-align: right;\">\n",
       "      <th></th>\n",
       "      <th>Sentinel2A CCP</th>\n",
       "    </tr>\n",
       "    <tr>\n",
       "      <th>Date</th>\n",
       "      <th></th>\n",
       "    </tr>\n",
       "  </thead>\n",
       "  <tbody>\n",
       "    <tr>\n",
       "      <th>01-2018</th>\n",
       "      <td>6.223976</td>\n",
       "    </tr>\n",
       "    <tr>\n",
       "      <th>01-2019</th>\n",
       "      <td>1.365390</td>\n",
       "    </tr>\n",
       "    <tr>\n",
       "      <th>02-2018</th>\n",
       "      <td>18.631887</td>\n",
       "    </tr>\n",
       "    <tr>\n",
       "      <th>03-2018</th>\n",
       "      <td>22.702698</td>\n",
       "    </tr>\n",
       "    <tr>\n",
       "      <th>04-2018</th>\n",
       "      <td>39.964785</td>\n",
       "    </tr>\n",
       "    <tr>\n",
       "      <th>05-2018</th>\n",
       "      <td>37.800339</td>\n",
       "    </tr>\n",
       "    <tr>\n",
       "      <th>06-2018</th>\n",
       "      <td>36.482804</td>\n",
       "    </tr>\n",
       "    <tr>\n",
       "      <th>07-2018</th>\n",
       "      <td>34.761767</td>\n",
       "    </tr>\n",
       "    <tr>\n",
       "      <th>08-2018</th>\n",
       "      <td>29.777463</td>\n",
       "    </tr>\n",
       "    <tr>\n",
       "      <th>09-2018</th>\n",
       "      <td>19.259333</td>\n",
       "    </tr>\n",
       "    <tr>\n",
       "      <th>10-2018</th>\n",
       "      <td>21.346596</td>\n",
       "    </tr>\n",
       "    <tr>\n",
       "      <th>11-2018</th>\n",
       "      <td>20.036659</td>\n",
       "    </tr>\n",
       "    <tr>\n",
       "      <th>12-2018</th>\n",
       "      <td>12.512499</td>\n",
       "    </tr>\n",
       "  </tbody>\n",
       "</table>\n",
       "</div>"
      ],
      "text/plain": [
       "         Sentinel2A CCP\n",
       "Date                   \n",
       "01-2018        6.223976\n",
       "01-2019        1.365390\n",
       "02-2018       18.631887\n",
       "03-2018       22.702698\n",
       "04-2018       39.964785\n",
       "05-2018       37.800339\n",
       "06-2018       36.482804\n",
       "07-2018       34.761767\n",
       "08-2018       29.777463\n",
       "09-2018       19.259333\n",
       "10-2018       21.346596\n",
       "11-2018       20.036659\n",
       "12-2018       12.512499"
      ]
     },
     "execution_count": 10,
     "metadata": {},
     "output_type": "execute_result"
    }
   ],
   "source": [
    "sg = pd.DataFrame(sentMetaData.groupby('Date')['Sentinel2A CCP'].mean())\n",
    "sg"
   ]
  },
  {
   "cell_type": "code",
   "execution_count": 11,
   "metadata": {},
   "outputs": [
    {
     "data": {
      "text/html": [
       "<div>\n",
       "<style scoped>\n",
       "    .dataframe tbody tr th:only-of-type {\n",
       "        vertical-align: middle;\n",
       "    }\n",
       "\n",
       "    .dataframe tbody tr th {\n",
       "        vertical-align: top;\n",
       "    }\n",
       "\n",
       "    .dataframe thead th {\n",
       "        text-align: right;\n",
       "    }\n",
       "</style>\n",
       "<table border=\"1\" class=\"dataframe\">\n",
       "  <thead>\n",
       "    <tr style=\"text-align: right;\">\n",
       "      <th></th>\n",
       "      <th>Sentinel2A CCP</th>\n",
       "      <th>Landsat8 CCP</th>\n",
       "    </tr>\n",
       "    <tr>\n",
       "      <th>Date</th>\n",
       "      <th></th>\n",
       "      <th></th>\n",
       "    </tr>\n",
       "  </thead>\n",
       "  <tbody>\n",
       "    <tr>\n",
       "      <th>01-2018</th>\n",
       "      <td>6.223976</td>\n",
       "      <td>6.220224</td>\n",
       "    </tr>\n",
       "    <tr>\n",
       "      <th>01-2019</th>\n",
       "      <td>1.365390</td>\n",
       "      <td>4.590400</td>\n",
       "    </tr>\n",
       "    <tr>\n",
       "      <th>02-2018</th>\n",
       "      <td>18.631887</td>\n",
       "      <td>14.585932</td>\n",
       "    </tr>\n",
       "    <tr>\n",
       "      <th>03-2018</th>\n",
       "      <td>22.702698</td>\n",
       "      <td>19.433492</td>\n",
       "    </tr>\n",
       "    <tr>\n",
       "      <th>04-2018</th>\n",
       "      <td>39.964785</td>\n",
       "      <td>41.220556</td>\n",
       "    </tr>\n",
       "    <tr>\n",
       "      <th>05-2018</th>\n",
       "      <td>37.800339</td>\n",
       "      <td>33.678450</td>\n",
       "    </tr>\n",
       "    <tr>\n",
       "      <th>06-2018</th>\n",
       "      <td>36.482804</td>\n",
       "      <td>49.639360</td>\n",
       "    </tr>\n",
       "    <tr>\n",
       "      <th>07-2018</th>\n",
       "      <td>34.761767</td>\n",
       "      <td>55.383209</td>\n",
       "    </tr>\n",
       "    <tr>\n",
       "      <th>08-2018</th>\n",
       "      <td>29.777463</td>\n",
       "      <td>47.100317</td>\n",
       "    </tr>\n",
       "    <tr>\n",
       "      <th>09-2018</th>\n",
       "      <td>19.259333</td>\n",
       "      <td>27.827200</td>\n",
       "    </tr>\n",
       "    <tr>\n",
       "      <th>10-2018</th>\n",
       "      <td>21.346596</td>\n",
       "      <td>34.754615</td>\n",
       "    </tr>\n",
       "    <tr>\n",
       "      <th>11-2018</th>\n",
       "      <td>20.036659</td>\n",
       "      <td>21.323622</td>\n",
       "    </tr>\n",
       "    <tr>\n",
       "      <th>12-2018</th>\n",
       "      <td>12.512499</td>\n",
       "      <td>17.281045</td>\n",
       "    </tr>\n",
       "  </tbody>\n",
       "</table>\n",
       "</div>"
      ],
      "text/plain": [
       "         Sentinel2A CCP  Landsat8 CCP\n",
       "Date                                 \n",
       "01-2018        6.223976      6.220224\n",
       "01-2019        1.365390      4.590400\n",
       "02-2018       18.631887     14.585932\n",
       "03-2018       22.702698     19.433492\n",
       "04-2018       39.964785     41.220556\n",
       "05-2018       37.800339     33.678450\n",
       "06-2018       36.482804     49.639360\n",
       "07-2018       34.761767     55.383209\n",
       "08-2018       29.777463     47.100317\n",
       "09-2018       19.259333     27.827200\n",
       "10-2018       21.346596     34.754615\n",
       "11-2018       20.036659     21.323622\n",
       "12-2018       12.512499     17.281045"
      ]
     },
     "execution_count": 11,
     "metadata": {},
     "output_type": "execute_result"
    }
   ],
   "source": [
    "comp = sg.merge(lsg, left_index=True, right_index=True)\n",
    "comp"
   ]
  },
  {
   "cell_type": "code",
   "execution_count": 12,
   "metadata": {},
   "outputs": [
    {
     "data": {
      "text/plain": [
       "<matplotlib.axes._subplots.AxesSubplot at 0x7ffb11d51780>"
      ]
     },
     "execution_count": 12,
     "metadata": {},
     "output_type": "execute_result"
    },
    {
     "data": {
      "image/png": "[encoded data removed]",
      "text/plain": [
       "<matplotlib.figure.Figure at 0x7ffb11ddcb00>"
      ]
     },
     "metadata": {},
     "output_type": "display_data"
    }
   ],
   "source": [
    "comp.plot()"
   ]
  },
  {
   "cell_type": "code",
   "execution_count": null,
   "metadata": {},
   "outputs": [],
   "source": []
  }
 ],
 "metadata": {
  "kernelspec": {
   "display_name": "Python 3",
   "language": "python",
   "name": "python3"
  },
  "language_info": {
   "codemirror_mode": {
    "name": "ipython",
    "version": 3
   },
   "file_extension": ".py",
   "mimetype": "text/x-python",
   "name": "python",
   "nbconvert_exporter": "python",
   "pygments_lexer": "ipython3",
   "version": "3.6.9"
  }
 },
 "nbformat": 4,
 "nbformat_minor": 2
}
