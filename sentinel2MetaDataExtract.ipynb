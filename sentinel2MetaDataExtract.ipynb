{
 "cells": [
  {
   "cell_type": "code",
   "execution_count": 1,
   "metadata": {},
   "outputs": [
    {
     "name": "stderr",
     "output_type": "stream",
     "text": [
      "/home/am/.local/lib/python3.6/site-packages/pandas/compat/_optional.py:106: UserWarning: Pandas requires version '1.2.1' or newer of 'bottleneck' (version '1.2.0' currently installed).\n",
      "  warnings.warn(msg, UserWarning)\n"
     ]
    }
   ],
   "source": [
    "import pandas as pd"
   ]
  },
  {
   "cell_type": "code",
   "execution_count": 2,
   "metadata": {},
   "outputs": [
    {
     "data": {
      "text/plain": [
       "['a', 'c']"
      ]
     },
     "execution_count": 2,
     "metadata": {},
     "output_type": "execute_result"
    }
   ],
   "source": [
    "sth = [0,2]\n",
    "archer = lambda x: [x[c] for c in sth]\n",
    "archer(['a', 'b', 'c'] )"
   ]
  },
  {
   "cell_type": "code",
   "execution_count": 3,
   "metadata": {},
   "outputs": [],
   "source": [
    "from shapely.geometry import Polygon\n",
    "def polygonize(p):\n",
    "    polygons = []\n",
    "    for row in range(0,p.shape[0]):\n",
    "        poly = list(map(float, p.iloc[row]))\n",
    "        xy = ()\n",
    "        for i in range(len(poly)):\n",
    "            if(i%2 == 0):\n",
    "                xy += (((poly[i+1]), poly[i]),)\n",
    "        polygons.append(str(Polygon(xy)))\n",
    "    return pd.DataFrame(polygons)"
   ]
  },
  {
   "cell_type": "code",
   "execution_count": 4,
   "metadata": {},
   "outputs": [
    {
     "name": "stdout",
     "output_type": "stream",
     "text": [
      "Index(['Date', 'Tile Number', 'Cloud Cover', 'Geometry'], dtype='object')\n"
     ]
    },
    {
     "data": {
      "text/html": [
       "<div>\n",
       "<style scoped>\n",
       "    .dataframe tbody tr th:only-of-type {\n",
       "        vertical-align: middle;\n",
       "    }\n",
       "\n",
       "    .dataframe tbody tr th {\n",
       "        vertical-align: top;\n",
       "    }\n",
       "\n",
       "    .dataframe thead th {\n",
       "        text-align: right;\n",
       "    }\n",
       "</style>\n",
       "<table border=\"1\" class=\"dataframe\">\n",
       "  <thead>\n",
       "    <tr style=\"text-align: right;\">\n",
       "      <th></th>\n",
       "      <th>Date</th>\n",
       "      <th>Tile Number</th>\n",
       "      <th>Cloud Cover</th>\n",
       "      <th>Geometry</th>\n",
       "    </tr>\n",
       "  </thead>\n",
       "  <tbody>\n",
       "    <tr>\n",
       "      <th>0</th>\n",
       "      <td>2019-01-01</td>\n",
       "      <td>T37NGE</td>\n",
       "      <td>2.0074</td>\n",
       "      <td>POLYGON ((41.2953727 4.024012399999999, 40.802...</td>\n",
       "    </tr>\n",
       "    <tr>\n",
       "      <th>1</th>\n",
       "      <td>2019-01-01</td>\n",
       "      <td>T37NFH</td>\n",
       "      <td>0.0781</td>\n",
       "      <td>POLYGON ((40.4015308 6.7391924, 39.9058064 7.2...</td>\n",
       "    </tr>\n",
       "    <tr>\n",
       "      <th>2</th>\n",
       "      <td>2019-01-01</td>\n",
       "      <td>T38NKP</td>\n",
       "      <td>0.0000</td>\n",
       "      <td>POLYGON ((42.7781127 7.639713, 42.2775766 8.13...</td>\n",
       "    </tr>\n",
       "    <tr>\n",
       "      <th>3</th>\n",
       "      <td>2019-01-01</td>\n",
       "      <td>T38PLS</td>\n",
       "      <td>2.3715</td>\n",
       "      <td>POLYGON ((43.67468289999999 10.3562239, 43.170...</td>\n",
       "    </tr>\n",
       "    <tr>\n",
       "      <th>4</th>\n",
       "      <td>2019-01-01</td>\n",
       "      <td>T37NFE</td>\n",
       "      <td>5.4055</td>\n",
       "      <td>POLYGON ((40.3953304 4.0260565, 39.9014269 4.5...</td>\n",
       "    </tr>\n",
       "  </tbody>\n",
       "</table>\n",
       "</div>"
      ],
      "text/plain": [
       "        Date Tile Number  Cloud Cover  \\\n",
       "0 2019-01-01      T37NGE       2.0074   \n",
       "1 2019-01-01      T37NFH       0.0781   \n",
       "2 2019-01-01      T38NKP       0.0000   \n",
       "3 2019-01-01      T38PLS       2.3715   \n",
       "4 2019-01-01      T37NFE       5.4055   \n",
       "\n",
       "                                            Geometry  \n",
       "0  POLYGON ((41.2953727 4.024012399999999, 40.802...  \n",
       "1  POLYGON ((40.4015308 6.7391924, 39.9058064 7.2...  \n",
       "2  POLYGON ((42.7781127 7.639713, 42.2775766 8.13...  \n",
       "3  POLYGON ((43.67468289999999 10.3562239, 43.170...  \n",
       "4  POLYGON ((40.3953304 4.0260565, 39.9014269 4.5...  "
      ]
     },
     "execution_count": 4,
     "metadata": {},
     "output_type": "execute_result"
    }
   ],
   "source": [
    "geometryCols = ['Center Latitude dec', 'Center Longitude dec', 'NW  Corner Lat dec',\n",
    "       'NW Corner Long dec', 'NE Corner Lat dec', 'NE Corner Long dec',\n",
    "       'SE Corner Lat dec', 'SE Corner Long dec', 'SW Corner Lat dec',\n",
    "       'SW Corner Long dec']\n",
    "\n",
    "sentMetaData = pd.read_csv('SENTINEL_2A_382286.csv',\n",
    "                  usecols=['Acquisition End Date', 'Tile Number', 'Cloud Cover', 'Center Latitude dec', 'Center Longitude dec', 'NW  Corner Lat dec',\n",
    "       'NW Corner Long dec', 'NE Corner Lat dec', 'NE Corner Long dec',\n",
    "       'SE Corner Lat dec', 'SE Corner Long dec', 'SW Corner Lat dec',\n",
    "       'SW Corner Long dec'], \n",
    "                  parse_dates=['Acquisition End Date'], \n",
    "                  date_parser = lambda x: pd.to_datetime(x).date\n",
    "                  ).assign(Geometry = lambda x: polygonize(pd.DataFrame(x[geometryCols])) ).drop(columns = geometryCols)\n",
    "sentMetaData = sentMetaData.rename(columns={'Acquisition End Date':'Date'})\n",
    "print(sentMetaData.columns)\n",
    "sentMetaData.head()"
   ]
  },
  {
   "cell_type": "code",
   "execution_count": 5,
   "metadata": {},
   "outputs": [
    {
     "data": {
      "text/plain": [
       "'POLYGON ((41.2953727 4.024012399999999, 40.8022674 4.5216809, 41.7912577 4.518543599999999, 41.7878806 3.5263828, 40.8000849 3.5288293, 41.2953727 4.024012399999999))'"
      ]
     },
     "execution_count": 5,
     "metadata": {},
     "output_type": "execute_result"
    }
   ],
   "source": [
    "sentMetaData['Geometry'][0]"
   ]
  },
  {
   "cell_type": "markdown",
   "metadata": {},
   "source": [
    "### Set Multi-indices 'Date' and 'Tiles'\n",
    "###### abandoned due to inaccessibility"
   ]
  },
  {
   "cell_type": "code",
   "execution_count": 6,
   "metadata": {},
   "outputs": [],
   "source": [
    "# print(sentMetaData['Date'].year)\n",
    "sentMetaDataMonthly = sentMetaData.assign(Month= sentMetaData['Date'].dt.strftime('%m-%Y') ).drop(columns = 'Date')"
   ]
  },
  {
   "cell_type": "code",
   "execution_count": 7,
   "metadata": {},
   "outputs": [
    {
     "name": "stdout",
     "output_type": "stream",
     "text": [
      "Index(['Tile Number', 'Cloud Cover', 'Geometry', 'Month'], dtype='object')\n"
     ]
    },
    {
     "data": {
      "text/html": [
       "<div>\n",
       "<style scoped>\n",
       "    .dataframe tbody tr th:only-of-type {\n",
       "        vertical-align: middle;\n",
       "    }\n",
       "\n",
       "    .dataframe tbody tr th {\n",
       "        vertical-align: top;\n",
       "    }\n",
       "\n",
       "    .dataframe thead th {\n",
       "        text-align: right;\n",
       "    }\n",
       "</style>\n",
       "<table border=\"1\" class=\"dataframe\">\n",
       "  <thead>\n",
       "    <tr style=\"text-align: right;\">\n",
       "      <th></th>\n",
       "      <th>Tile Number</th>\n",
       "      <th>Cloud Cover</th>\n",
       "      <th>Geometry</th>\n",
       "      <th>Month</th>\n",
       "    </tr>\n",
       "  </thead>\n",
       "  <tbody>\n",
       "    <tr>\n",
       "      <th>0</th>\n",
       "      <td>T37NGE</td>\n",
       "      <td>2.0074</td>\n",
       "      <td>POLYGON ((41.2953727 4.024012399999999, 40.802...</td>\n",
       "      <td>01-2019</td>\n",
       "    </tr>\n",
       "    <tr>\n",
       "      <th>1</th>\n",
       "      <td>T37NFH</td>\n",
       "      <td>0.0781</td>\n",
       "      <td>POLYGON ((40.4015308 6.7391924, 39.9058064 7.2...</td>\n",
       "      <td>01-2019</td>\n",
       "    </tr>\n",
       "    <tr>\n",
       "      <th>2</th>\n",
       "      <td>T38NKP</td>\n",
       "      <td>0.0000</td>\n",
       "      <td>POLYGON ((42.7781127 7.639713, 42.2775766 8.13...</td>\n",
       "      <td>01-2019</td>\n",
       "    </tr>\n",
       "    <tr>\n",
       "      <th>3</th>\n",
       "      <td>T38PLS</td>\n",
       "      <td>2.3715</td>\n",
       "      <td>POLYGON ((43.67468289999999 10.3562239, 43.170...</td>\n",
       "      <td>01-2019</td>\n",
       "    </tr>\n",
       "    <tr>\n",
       "      <th>4</th>\n",
       "      <td>T37NFE</td>\n",
       "      <td>5.4055</td>\n",
       "      <td>POLYGON ((40.3953304 4.0260565, 39.9014269 4.5...</td>\n",
       "      <td>01-2019</td>\n",
       "    </tr>\n",
       "    <tr>\n",
       "      <th>...</th>\n",
       "      <td>...</td>\n",
       "      <td>...</td>\n",
       "      <td>...</td>\n",
       "      <td>...</td>\n",
       "    </tr>\n",
       "    <tr>\n",
       "      <th>18141</th>\n",
       "      <td>T37NGG</td>\n",
       "      <td>0.0000</td>\n",
       "      <td>POLYGON ((41.3015875 5.831693700000001, 40.807...</td>\n",
       "      <td>01-2018</td>\n",
       "    </tr>\n",
       "    <tr>\n",
       "      <th>18142</th>\n",
       "      <td>T38NKK</td>\n",
       "      <td>0.0000</td>\n",
       "      <td>POLYGON ((42.7923049 4.0242553, 42.29644279999...</td>\n",
       "      <td>01-2018</td>\n",
       "    </tr>\n",
       "    <tr>\n",
       "      <th>18143</th>\n",
       "      <td>T37PHK</td>\n",
       "      <td>0.0000</td>\n",
       "      <td>POLYGON ((42.2230716 8.536749499999999, 41.728...</td>\n",
       "      <td>01-2018</td>\n",
       "    </tr>\n",
       "    <tr>\n",
       "      <th>18144</th>\n",
       "      <td>T37PHL</td>\n",
       "      <td>0.3930</td>\n",
       "      <td>POLYGON ((42.2310749 9.4399961, 41.7356727 9.9...</td>\n",
       "      <td>01-2018</td>\n",
       "    </tr>\n",
       "    <tr>\n",
       "      <th>18145</th>\n",
       "      <td>T38PKU</td>\n",
       "      <td>4.9598</td>\n",
       "      <td>POLYGON ((42.747486 12.1589016, 42.2381354 12....</td>\n",
       "      <td>01-2018</td>\n",
       "    </tr>\n",
       "  </tbody>\n",
       "</table>\n",
       "<p>18146 rows × 4 columns</p>\n",
       "</div>"
      ],
      "text/plain": [
       "      Tile Number  Cloud Cover  \\\n",
       "0          T37NGE       2.0074   \n",
       "1          T37NFH       0.0781   \n",
       "2          T38NKP       0.0000   \n",
       "3          T38PLS       2.3715   \n",
       "4          T37NFE       5.4055   \n",
       "...           ...          ...   \n",
       "18141      T37NGG       0.0000   \n",
       "18142      T38NKK       0.0000   \n",
       "18143      T37PHK       0.0000   \n",
       "18144      T37PHL       0.3930   \n",
       "18145      T38PKU       4.9598   \n",
       "\n",
       "                                                Geometry    Month  \n",
       "0      POLYGON ((41.2953727 4.024012399999999, 40.802...  01-2019  \n",
       "1      POLYGON ((40.4015308 6.7391924, 39.9058064 7.2...  01-2019  \n",
       "2      POLYGON ((42.7781127 7.639713, 42.2775766 8.13...  01-2019  \n",
       "3      POLYGON ((43.67468289999999 10.3562239, 43.170...  01-2019  \n",
       "4      POLYGON ((40.3953304 4.0260565, 39.9014269 4.5...  01-2019  \n",
       "...                                                  ...      ...  \n",
       "18141  POLYGON ((41.3015875 5.831693700000001, 40.807...  01-2018  \n",
       "18142  POLYGON ((42.7923049 4.0242553, 42.29644279999...  01-2018  \n",
       "18143  POLYGON ((42.2230716 8.536749499999999, 41.728...  01-2018  \n",
       "18144  POLYGON ((42.2310749 9.4399961, 41.7356727 9.9...  01-2018  \n",
       "18145  POLYGON ((42.747486 12.1589016, 42.2381354 12....  01-2018  \n",
       "\n",
       "[18146 rows x 4 columns]"
      ]
     },
     "execution_count": 7,
     "metadata": {},
     "output_type": "execute_result"
    }
   ],
   "source": [
    "print(sentMetaDataMonthly.columns)\n",
    "# sentMetaData.loc[sentMetaData['Month']==12]\n",
    "\n",
    "sentMetaDataMonthly"
   ]
  },
  {
   "cell_type": "code",
   "execution_count": 8,
   "metadata": {},
   "outputs": [
    {
     "data": {
      "text/html": [
       "<div>\n",
       "<style scoped>\n",
       "    .dataframe tbody tr th:only-of-type {\n",
       "        vertical-align: middle;\n",
       "    }\n",
       "\n",
       "    .dataframe tbody tr th {\n",
       "        vertical-align: top;\n",
       "    }\n",
       "\n",
       "    .dataframe thead th {\n",
       "        text-align: right;\n",
       "    }\n",
       "</style>\n",
       "<table border=\"1\" class=\"dataframe\">\n",
       "  <thead>\n",
       "    <tr style=\"text-align: right;\">\n",
       "      <th></th>\n",
       "      <th>Tile Number</th>\n",
       "      <th>Cloud Cover</th>\n",
       "      <th>Geometry</th>\n",
       "      <th>Month</th>\n",
       "    </tr>\n",
       "  </thead>\n",
       "  <tbody>\n",
       "    <tr>\n",
       "      <th>0</th>\n",
       "      <td>T37NGE</td>\n",
       "      <td>2.0074</td>\n",
       "      <td>POLYGON ((41.2953727 4.024012399999999, 40.802...</td>\n",
       "      <td>01-2019</td>\n",
       "    </tr>\n",
       "    <tr>\n",
       "      <th>1</th>\n",
       "      <td>T37NFH</td>\n",
       "      <td>0.0781</td>\n",
       "      <td>POLYGON ((40.4015308 6.7391924, 39.9058064 7.2...</td>\n",
       "      <td>01-2019</td>\n",
       "    </tr>\n",
       "    <tr>\n",
       "      <th>2</th>\n",
       "      <td>T38NKP</td>\n",
       "      <td>0.0000</td>\n",
       "      <td>POLYGON ((42.7781127 7.639713, 42.2775766 8.13...</td>\n",
       "      <td>01-2019</td>\n",
       "    </tr>\n",
       "    <tr>\n",
       "      <th>3</th>\n",
       "      <td>T38PLS</td>\n",
       "      <td>2.3715</td>\n",
       "      <td>POLYGON ((43.67468289999999 10.3562239, 43.170...</td>\n",
       "      <td>01-2019</td>\n",
       "    </tr>\n",
       "    <tr>\n",
       "      <th>4</th>\n",
       "      <td>T37NFE</td>\n",
       "      <td>5.4055</td>\n",
       "      <td>POLYGON ((40.3953304 4.0260565, 39.9014269 4.5...</td>\n",
       "      <td>01-2019</td>\n",
       "    </tr>\n",
       "    <tr>\n",
       "      <th>...</th>\n",
       "      <td>...</td>\n",
       "      <td>...</td>\n",
       "      <td>...</td>\n",
       "      <td>...</td>\n",
       "    </tr>\n",
       "    <tr>\n",
       "      <th>1405</th>\n",
       "      <td>T37PCN</td>\n",
       "      <td>11.1592</td>\n",
       "      <td>POLYGON ((37.6707083 11.2605722, 37.164699 11....</td>\n",
       "      <td>12-2018</td>\n",
       "    </tr>\n",
       "    <tr>\n",
       "      <th>1409</th>\n",
       "      <td>T37PCP</td>\n",
       "      <td>3.9885</td>\n",
       "      <td>POLYGON ((37.6663787 12.1648642, 37.158462 12....</td>\n",
       "      <td>12-2018</td>\n",
       "    </tr>\n",
       "    <tr>\n",
       "      <th>1412</th>\n",
       "      <td>T36NZK</td>\n",
       "      <td>9.8253</td>\n",
       "      <td>POLYGON ((36.19538170000001 4.020972, 35.70319...</td>\n",
       "      <td>12-2018</td>\n",
       "    </tr>\n",
       "    <tr>\n",
       "      <th>1425</th>\n",
       "      <td>T36NZM</td>\n",
       "      <td>26.0208</td>\n",
       "      <td>POLYGON ((36.2040245 5.827279799999999, 35.711...</td>\n",
       "      <td>12-2018</td>\n",
       "    </tr>\n",
       "    <tr>\n",
       "      <th>1427</th>\n",
       "      <td>T37PCM</td>\n",
       "      <td>5.9156</td>\n",
       "      <td>POLYGON ((37.67468289999999 10.3562239, 37.170...</td>\n",
       "      <td>12-2018</td>\n",
       "    </tr>\n",
       "  </tbody>\n",
       "</table>\n",
       "<p>835 rows × 4 columns</p>\n",
       "</div>"
      ],
      "text/plain": [
       "     Tile Number  Cloud Cover  \\\n",
       "0         T37NGE       2.0074   \n",
       "1         T37NFH       0.0781   \n",
       "2         T38NKP       0.0000   \n",
       "3         T38PLS       2.3715   \n",
       "4         T37NFE       5.4055   \n",
       "...          ...          ...   \n",
       "1405      T37PCN      11.1592   \n",
       "1409      T37PCP       3.9885   \n",
       "1412      T36NZK       9.8253   \n",
       "1425      T36NZM      26.0208   \n",
       "1427      T37PCM       5.9156   \n",
       "\n",
       "                                               Geometry    Month  \n",
       "0     POLYGON ((41.2953727 4.024012399999999, 40.802...  01-2019  \n",
       "1     POLYGON ((40.4015308 6.7391924, 39.9058064 7.2...  01-2019  \n",
       "2     POLYGON ((42.7781127 7.639713, 42.2775766 8.13...  01-2019  \n",
       "3     POLYGON ((43.67468289999999 10.3562239, 43.170...  01-2019  \n",
       "4     POLYGON ((40.3953304 4.0260565, 39.9014269 4.5...  01-2019  \n",
       "...                                                 ...      ...  \n",
       "1405  POLYGON ((37.6707083 11.2605722, 37.164699 11....  12-2018  \n",
       "1409  POLYGON ((37.6663787 12.1648642, 37.158462 12....  12-2018  \n",
       "1412  POLYGON ((36.19538170000001 4.020972, 35.70319...  12-2018  \n",
       "1425  POLYGON ((36.2040245 5.827279799999999, 35.711...  12-2018  \n",
       "1427  POLYGON ((37.67468289999999 10.3562239, 37.170...  12-2018  \n",
       "\n",
       "[835 rows x 4 columns]"
      ]
     },
     "execution_count": 8,
     "metadata": {},
     "output_type": "execute_result"
    }
   ],
   "source": [
    "monthlySMD = sentMetaDataMonthly.groupby('Tile Number')\n",
    "monthlySMD.head()"
   ]
  },
  {
   "cell_type": "code",
   "execution_count": 9,
   "metadata": {},
   "outputs": [],
   "source": [
    "# print(sentMetaDataMonthly['Month'].unique)\n",
    "monthlySMD = sentMetaDataMonthly.groupby(['Month','Tile Number'])['Cloud Cover'].mean()"
   ]
  },
  {
   "cell_type": "code",
   "execution_count": null,
   "metadata": {},
   "outputs": [],
   "source": [
    "# print(sentMetaDataMonthly.columns)\n",
    "# print(sentMetaDataMonthly.index.names[0])\n",
    "# monthlySMD = lambda df: df.xs(month for month in df['Month'].unique()  ).groupby('Tile Number')\n",
    "# monthlySMD(sentMetaDataMonthly)"
   ]
  },
  {
   "cell_type": "code",
   "execution_count": 11,
   "metadata": {},
   "outputs": [
    {
     "name": "stdout",
     "output_type": "stream",
     "text": [
      "['Month', 'Tile Number', 'Geometry']\n"
     ]
    },
    {
     "data": {
      "text/html": [
       "<div>\n",
       "<style scoped>\n",
       "    .dataframe tbody tr th:only-of-type {\n",
       "        vertical-align: middle;\n",
       "    }\n",
       "\n",
       "    .dataframe tbody tr th {\n",
       "        vertical-align: top;\n",
       "    }\n",
       "\n",
       "    .dataframe thead th {\n",
       "        text-align: right;\n",
       "    }\n",
       "</style>\n",
       "<table border=\"1\" class=\"dataframe\">\n",
       "  <thead>\n",
       "    <tr style=\"text-align: right;\">\n",
       "      <th></th>\n",
       "      <th></th>\n",
       "      <th></th>\n",
       "      <th>Cloud Cover</th>\n",
       "    </tr>\n",
       "    <tr>\n",
       "      <th>Month</th>\n",
       "      <th>Tile Number</th>\n",
       "      <th>Geometry</th>\n",
       "      <th></th>\n",
       "    </tr>\n",
       "  </thead>\n",
       "  <tbody>\n",
       "    <tr>\n",
       "      <th rowspan=\"5\" valign=\"top\">01-2018</th>\n",
       "      <th>T36NVP</th>\n",
       "      <th>POLYGON ((32.5907275 7.6452367, 32.0919113 8.141018600000001, 33.0885978 8.1420245, 33.0883932 7.148807400000001, 32.0940077 7.1479256, 32.5907275 7.6452367))</th>\n",
       "      <td>11.176215</td>\n",
       "    </tr>\n",
       "    <tr>\n",
       "      <th>T36NWN</th>\n",
       "      <th>POLYGON ((33.4965969 6.740951299999999, 32.9998188 7.2378275, 33.9943856 7.236741800000001, 33.99236389999999 6.2436347, 32.9998192 6.2445701, 33.4965969 6.740951299999999))</th>\n",
       "      <td>7.033814</td>\n",
       "    </tr>\n",
       "    <tr>\n",
       "      <th>T36NWP</th>\n",
       "      <th>POLYGON ((33.4975804 7.6451439, 32.9998184 8.1420341, 33.9964925 8.140811200000002, 33.994192 7.1477438, 32.9998189 7.1488159, 33.4975804 7.6451439))</th>\n",
       "      <td>11.231400</td>\n",
       "    </tr>\n",
       "    <tr>\n",
       "      <th>T36NXM</th>\n",
       "      <th>POLYGON ((34.3991109 5.8346612, 33.9041175 6.332254900000001, 34.8965658 6.3295782, 34.8932325 5.3368331, 33.9025276 5.3390875, 34.3991109 5.8346612))</th>\n",
       "      <td>0.537750</td>\n",
       "    </tr>\n",
       "    <tr>\n",
       "      <th>T36NXN</th>\n",
       "      <th>POLYGON ((34.4015308 6.7391924, 33.9058064 7.2369266, 34.9001067 7.233863799999999, 34.8962455 6.241154900000001, 33.9039647 6.243793900000001, 34.4015308 6.7391924))</th>\n",
       "      <td>10.827314</td>\n",
       "    </tr>\n",
       "  </tbody>\n",
       "</table>\n",
       "</div>"
      ],
      "text/plain": [
       "                                                                        Cloud Cover\n",
       "Month   Tile Number Geometry                                                       \n",
       "01-2018 T36NVP      POLYGON ((32.5907275 7.6452367, 32.0919113 8.14...    11.176215\n",
       "        T36NWN      POLYGON ((33.4965969 6.740951299999999, 32.9998...     7.033814\n",
       "        T36NWP      POLYGON ((33.4975804 7.6451439, 32.9998184 8.14...    11.231400\n",
       "        T36NXM      POLYGON ((34.3991109 5.8346612, 33.9041175 6.33...     0.537750\n",
       "        T36NXN      POLYGON ((34.4015308 6.7391924, 33.9058064 7.23...    10.827314"
      ]
     },
     "execution_count": 11,
     "metadata": {},
     "output_type": "execute_result"
    }
   ],
   "source": [
    "import geopandas as gpd\n",
    "\n",
    "smdGPD = gpd.GeoDataFrame(sentMetaDataMonthly.groupby(['Month','Tile Number','Geometry'])['Cloud Cover'].mean()) \n",
    "print(smdGPD.index.names)\n",
    "smdGPD.head()\n",
    "smdGPD.columns\n",
    "smdGPD.head()\n",
    "# monthlySMD = lambda df: df.xs(month for month in df['Month'].unique()  ).groupby('Tile Number').mean() \n",
    "# monthlySMD(smdGPD)"
   ]
  },
  {
   "cell_type": "code",
   "execution_count": null,
   "metadata": {},
   "outputs": [],
   "source": [
    "import matplotlib.pyplot as plt\n",
    "plt.plot(smdGPD['Geometry'])"
   ]
  },
  {
   "cell_type": "code",
   "execution_count": null,
   "metadata": {},
   "outputs": [],
   "source": [
    "# monthlySMDGPD = \n",
    "# smdGPD.groupby('Month')['Cloud Cover'].mean().head()\n",
    "print(smdGPD['Tile Number'].unique())\n",
    "pd.MultiIndex.from_frame(smdGPD, names=['Month'])"
   ]
  },
  {
   "cell_type": "code",
   "execution_count": null,
   "metadata": {},
   "outputs": [],
   "source": []
  },
  {
   "cell_type": "code",
   "execution_count": null,
   "metadata": {},
   "outputs": [],
   "source": []
  }
 ],
 "metadata": {
  "kernelspec": {
   "display_name": "Python 3",
   "language": "python",
   "name": "python3"
  },
  "language_info": {
   "codemirror_mode": {
    "name": "ipython",
    "version": 3
   },
   "file_extension": ".py",
   "mimetype": "text/x-python",
   "name": "python",
   "nbconvert_exporter": "python",
   "pygments_lexer": "ipython3",
   "version": "3.6.9"
  }
 },
 "nbformat": 4,
 "nbformat_minor": 2
}
